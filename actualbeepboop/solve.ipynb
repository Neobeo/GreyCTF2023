{
 "cells": [
  {
   "cell_type": "markdown",
   "id": "44b28838",
   "metadata": {},
   "source": [
    "# Misc 1 - actualbeepboop\n",
    "\n",
    "> This time its actually a real beepboop challenge\n",
    "> \n",
    "> - 9V1BD\n",
    ">\n",
    "> Files: [output.wav](output.wav)\n",
    "\n",
    "Alright, a miscellaneous WAV file. Let's see what Audacity has to say about it.\n",
    "\n",
    "![](audacity1.png)\n",
    "\n",
    "From looking around a bit, we see a 12.16s waveform that has a very flat timbre. Its frequency changes every 0.02s (or multiple thereof), and it appears to only take four different frequencies.\n",
    "\n",
    "Let's actually get this down with proper FFTs and stuff. Since it's sampled at 48KHz, we want to capture every $48000 \\times 0.02 = 960$ samples."
   ]
  },
  {
   "cell_type": "code",
   "execution_count": 1,
   "id": "ebd21e95",
   "metadata": {},
   "outputs": [
    {
     "name": "stdout",
     "output_type": "stream",
     "text": [
      "set(arr) = {2400.0, 3050.0, 2050.0, 2700.0}\n",
      "len(arr) = 608\n"
     ]
    }
   ],
   "source": [
    "import numpy as np\n",
    "import struct\n",
    "\n",
    "bs = open('output.wav', 'rb').read()[0x2C:] # ignore WAVE metadata\n",
    "vals = np.array(struct.unpack(len(bs)//2*'h', bs))\n",
    "\n",
    "arr = []\n",
    "for i in range(0, len(vals), 960):\n",
    "    chunk = vals[i:i+960]\n",
    "    windowed_chunk = chunk * np.hanning(len(chunk))\n",
    "    fft_data = np.fft.rfft(windowed_chunk)\n",
    "    freqs = np.fft.rfftfreq(len(chunk), d=1/48000)\n",
    "    dominant_freq = freqs[np.argmax(np.abs(fft_data))]\n",
    "    arr.append(dominant_freq)\n",
    "    \n",
    "print(f'{set(arr) = }')\n",
    "print(f'{len(arr) = }')"
   ]
  },
  {
   "cell_type": "markdown",
   "id": "180d12f7",
   "metadata": {},
   "source": [
    "Let's check that some things are in order. Firstly, we do have exactly four different frequencies as expected (and they're very nice numbers too, a confirmation that we're going things right). Secondly, we have recorded 608 of these frequencies, and since these are taken over 0.02s, it's another quick check that $608 \\times 0.02 = 12.16$ is the length of the clip in seconds.\n",
    "\n",
    "Alright, let's convert this to base 4 and see if we can spot anything out of it."
   ]
  },
  {
   "cell_type": "code",
   "execution_count": 2,
   "id": "885b7011",
   "metadata": {},
   "outputs": [
    {
     "data": {
      "text/plain": [
       "'30303030303030303030303030303030303030303030303030303030303030303030303030303030303030303030303030303030303030303030303030303030303030303030303030303030303030303030303030303030303030303030303030303030303030303030303030303030303030303030303030303030303030303121203111211231323120213030303000312021003000300031331131311030013102213311013033110131003023213030303133113030113000301230312121212221003012302031212122210030123022213121133131212031112112313231202130303030003120210030003000313311313110300131022133110130331101310030232130303031331130301130003012303121212122210030123020312121222100301230222131211331'"
      ]
     },
     "execution_count": 2,
     "metadata": {},
     "output_type": "execute_result"
    }
   ],
   "source": [
    "''.join(str([2050.0, 2400.0, 2700.0, 3050.0].index(x)) for x in arr)"
   ]
  },
  {
   "cell_type": "markdown",
   "id": "1be86cd0",
   "metadata": {},
   "source": [
    "Okay, so it seems like it splits into three parts: There's a prelude at the beginning, and then possibly the flag encoded twice?\n",
    "\n",
    "```\n",
    "303030303030303030303030303030303030303030303030303030303030303030303030303030303030303030303030303030303030303030303030303030303030303030303030303030303030303030303030303030303030303030303030303030303030303030303030303030303030303030303030303030303030303\n",
    "\n",
    "31212031112112313231202130303030003120210030003000313311313110300131022133110130331101310030232130303031331130301130003012303121212122210030123020312121222100301230222131211331\n",
    "\n",
    "31212031112112313231202130303030003120210030003000313311313110300131022133110130331101310030232130303031331130301130003012303121212122210030123020312121222100301230222131211331\n",
    "```\n",
    "\n",
    "At this point there are quite a few ways you could encode the flag, so let's maybe compare with what we expect the first few bytes of the flag to be (hoping it's base 4):"
   ]
  },
  {
   "cell_type": "code",
   "execution_count": 3,
   "id": "ff996910",
   "metadata": {},
   "outputs": [
    {
     "name": "stdout",
     "output_type": "stream",
     "text": [
      "0 g 1213\n",
      "1 r 1302\n",
      "2 e 1211\n",
      "3 y 1321\n",
      "4 { 1323\n"
     ]
    }
   ],
   "source": [
    "for i, c in enumerate(b'grey{'):\n",
    "    print(i, chr(c), np.base_repr(c, 4))"
   ]
  },
  {
   "cell_type": "markdown",
   "id": "01dcd025",
   "metadata": {},
   "source": [
    "Hey, that looks _a lot_ like the start of the message `3121 2031 1121 1231 3231`, just in reverse. Guess we can script this a bit."
   ]
  },
  {
   "cell_type": "code",
   "execution_count": 4,
   "id": "5f2f9ac4",
   "metadata": {},
   "outputs": [
    {
     "data": {
      "text/plain": [
       "b'grey{b33pb00p_w1th_4_t0n3s_3509gfj09rfj09jg}'"
      ]
     },
     "execution_count": 4,
     "metadata": {},
     "output_type": "execute_result"
    }
   ],
   "source": [
    "msg = '31212031112112313231202130303030003120210030003000313311313110300131022133110130331101310030232130303031331130301130003012303121212122210030123020312121222100301230222131211331'\n",
    "int(msg[::-1],4).to_bytes(len(msg)//4, 'little')"
   ]
  }
 ],
 "metadata": {
  "kernelspec": {
   "display_name": "Python 3 (ipykernel)",
   "language": "python",
   "name": "python3"
  },
  "language_info": {
   "codemirror_mode": {
    "name": "ipython",
    "version": 3
   },
   "file_extension": ".py",
   "mimetype": "text/x-python",
   "name": "python",
   "nbconvert_exporter": "python",
   "pygments_lexer": "ipython3",
   "version": "3.10.6"
  }
 },
 "nbformat": 4,
 "nbformat_minor": 5
}
