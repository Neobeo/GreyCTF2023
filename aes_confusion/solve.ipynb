{
 "cells": [
  {
   "cell_type": "markdown",
   "id": "9d86c5ec",
   "metadata": {},
   "source": [
    "# Crypto 2 - AES confusion\n",
    "\n",
    "> I tried to implement an encrypt/decrypt service but it doesn't work. Could you help me figure why?\n",
    "> \n",
    "> - ariana\n",
    ">\n",
    "> Files: [main.py](main.py)\n",
    "\n",
    "This is a slightly disguised MT19937 cracking challenge. You generate a 16-byte key and 16-byte IV using `random.randbytes(16)`, and then you can do any of the following:\n",
    "1. Encrypt as many messages as you want in CBC mode (with a new randomly generated IV each time).\n",
    "2. Decrypt as many messages as you want in ECB mode. \n",
    "3. Get the flag encrypted using the original key/IV, at which point the program exits.\n",
    "\n",
    "It is well-established that if you learn 624 consecutive 32-bit \"reads\" from an MT19937 that you know its entire state, so you can go forwards or backwards. Each key/IV makes up four reads here, so if we can learn 156 consecutive IVs we are done. It suffices for us to just send the empty message 156 times and decrypt them all, and we can learn the IVs this way.\n",
    "\n",
    "First, here's a piece of code to guess predict a value given the next 624 values:"
   ]
  },
  {
   "cell_type": "code",
   "execution_count": 1,
   "id": "8fe38f32",
   "metadata": {},
   "outputs": [],
   "source": [
    "from z3 import *\n",
    "def get_prev(arr):\n",
    "    MT = [BitVec(f'm{i}', 32) for i in range(624)]\n",
    "    s = Solver()\n",
    "    \n",
    "    def cache(x): # for some reason, this makes it faster in certain places\n",
    "        tmp = Const(f'c{len(s.assertions())}', x.sort())\n",
    "        s.add(tmp == x)\n",
    "        return tmp\n",
    "    \n",
    "    def tamper(y):\n",
    "        y ^= LShR(y, 11)\n",
    "        y = cache(y ^ (y << 7) & 0x9D2C5680)\n",
    "        y ^= cache((y << 15) & 0xEFC60000)\n",
    "        return y ^ LShR(y, 18)\n",
    "        \n",
    "    def getnext():\n",
    "        x = Concat(Extract(31, 31, MT[0]), Extract(30, 0, MT[1]))\n",
    "        y = If(x & 1 == 0, BitVecVal(0, 32), 0x9908B0DF)\n",
    "        MT.append(MT[397] ^ LShR(x, 1) ^ y)\n",
    "        return tamper(MT.pop(0))\n",
    "    \n",
    "    getnext()\n",
    "    prev = getnext()\n",
    "    s.add([x == getnext() for x in arr])\n",
    "    assert(s.check() == sat)\n",
    "    return s.model().eval(prev).as_long()\n",
    "\n",
    "# quick test case to check that it works\n",
    "import random\n",
    "testcase = [random.getrandbits(32) for _ in range(625)]\n",
    "assert testcase[0] == get_prev(testcase[1:])"
   ]
  },
  {
   "cell_type": "markdown",
   "id": "13ee44ad",
   "metadata": {},
   "source": [
    "Now that we know it works, we can run our script!"
   ]
  },
  {
   "cell_type": "code",
   "execution_count": 2,
   "id": "c4b7c13d",
   "metadata": {},
   "outputs": [
    {
     "name": "stdout",
     "output_type": "stream",
     "text": [
      "[x] Starting local process '/usr/bin/python'\n",
      "[+] Starting local process '/usr/bin/python': pid 14381\n",
      "key.hex()='016a062bc396100fe53fa549ee72caf2'\n",
      "iv.hex()='8ca2c8ea26860d51e3def57b1f31e060'\n"
     ]
    },
    {
     "data": {
      "text/plain": [
       "b'grey{<REDACTED>}\\x10\\x10\\x10\\x10\\x10\\x10\\x10\\x10\\x10\\x10\\x10\\x10\\x10\\x10\\x10\\x10'"
      ]
     },
     "execution_count": 2,
     "metadata": {},
     "output_type": "execute_result"
    }
   ],
   "source": [
    "from pwn import *\n",
    "sh = process(['python', 'main.py'])\n",
    "#sh = remote('34.124.157.94', 19522)\n",
    "sh.sendlines([b'1\\n'] * 156)\n",
    "\n",
    "for _ in range(156):\n",
    "    sh.readuntil(b'Ciphertext: ')\n",
    "    sh.sendline(b'2')\n",
    "    sh.send(sh.readline())\n",
    "\n",
    "def get():\n",
    "    sh.readuntil(b'Plaintext: ')\n",
    "    return xor(bytes.fromhex(sh.readline().decode()), 16)\n",
    "\n",
    "arr = [get() for _ in range(156)]\n",
    "vals = [y for x in arr for y in struct.unpack('IIII', x)]\n",
    "\n",
    "sh.sendline(b'3')\n",
    "sh.readuntil(b'Flag: ')\n",
    "flag = bytes.fromhex(sh.readline().decode())\n",
    "\n",
    "for _ in range(8):\n",
    "    vals.insert(0, get_prev(vals[:624]))\n",
    "    \n",
    "key = struct.pack('IIII', *vals[0:4])\n",
    "iv = struct.pack('IIII', *vals[4:8])\n",
    "print(f'{key.hex()=}')\n",
    "print(f'{iv.hex()=}')\n",
    "\n",
    "from Crypto.Cipher import AES\n",
    "AES.new(key, AES.MODE_CBC, iv=iv).decrypt(flag)"
   ]
  },
  {
   "cell_type": "markdown",
   "id": "1b153b03",
   "metadata": {},
   "source": [
    "The flag is `grey{tr4v3ll1n9_84ck_1n_t1m3}`."
   ]
  }
 ],
 "metadata": {
  "kernelspec": {
   "display_name": "Python 3 (ipykernel)",
   "language": "python",
   "name": "python3"
  },
  "language_info": {
   "codemirror_mode": {
    "name": "ipython",
    "version": 3
   },
   "file_extension": ".py",
   "mimetype": "text/x-python",
   "name": "python",
   "nbconvert_exporter": "python",
   "pygments_lexer": "ipython3",
   "version": "3.10.6"
  }
 },
 "nbformat": 4,
 "nbformat_minor": 5
}
