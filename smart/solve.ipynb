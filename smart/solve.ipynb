{
 "cells": [
  {
   "cell_type": "markdown",
   "id": "890fb298",
   "metadata": {},
   "source": [
    "# Crypto 1 - Smart\n",
    "\n",
    "> Only smart people can get the flag\n",
    ">\n",
    "> - mechfrog88\n",
    ">\n",
    "> Files: [main.py](main.py)\n",
    "\n",
    "So I didn't actually manage to solve this challenge live, but the solution is semi-obvious in hindsight.\n",
    "\n",
    "Roughly speaking, you are a given a function $f : \\mathbb{Z}^4 \\to \\mathbb{Z}_{1657} \\times \\mathbb{Z}_{1663} \\times \\mathbb{Z}_{1049} \\times \\mathbb{Z}_{1193}$.\n",
    "\n",
    "And then you also have a funcion $h(a,b,c,d) = f^k(a,b,c,d)$ where $k = 5555 + (abcd \\bmod{3000000})$.\n",
    "\n",
    "The challenge is that it generates you the value of $target := h(v_0,v_1,v_2,v_3)$ from some initial state whose values are random 32-bit ints, and you have to find values $(a,b,c,d) \\in \\mathbb{Z}_{1657} \\times \\mathbb{Z}_{1663} \\times \\mathbb{Z}_{1049} \\times \\mathbb{Z}_{1193}$ satisfying $h(a,b,c,d) = target$.\n",
    "\n",
    "In particular, the original 32-bit state is (usually) not a valid solution, because the values tend to be larger than 4 digits each.\n",
    "\n",
    "Anyway, the solve path seems obvious for the most part: if you can invert $f$ efficiently, then you can just keep doing this and checking if satisfies the $h$ condition. Now $f$ looks almost linear, but with a quadratic and a quartic term thrown into the mix. So I spent most of my time trying to exploit the near-linearity to invert it, but did not manage to do so.\n",
    "\n",
    "Instead, the intended solution is to keep iterating $f$ _forwards_ until it hits a cycle. Since there's only roughly $2^{42}$ possible outcomes of $f$, the birthday paradox (or similar) basically states that if you iterate $O(2^{21})$ times there's a good chance your $f$ will hit a value you've already seen, and there's your cycle! Plus this has the added bonus of inverting all those states as well, not just one at a time.\n",
    "\n",
    "Anyway, once you know this trick it's all trivial, so here's the solve script:"
   ]
  },
  {
   "cell_type": "code",
   "execution_count": 1,
   "id": "2485a240",
   "metadata": {},
   "outputs": [
    {
     "name": "stdout",
     "output_type": "stream",
     "text": [
      "found loop of length 1022119\n",
      "(649, 652, 55, 296)\n"
     ]
    }
   ],
   "source": [
    "p = 1657; q = 1663; r = 1049; s = 1193\n",
    "\n",
    "def f(v):\n",
    "    a = (5 * v[0] + 3 * v[1] + 7 * v[2] + 4 * v[3] + v[0] * v[1] + 10 * (v[2] * v[3])**2) % p\n",
    "    b = (9 * v[0] + 2 * v[1] + 1 * v[2] + 1 * v[3] + v[1] * v[2] + 11 * (v[0] * v[3])**2) % q\n",
    "    c = (6 * v[0] + 7 * v[1] + 3 * v[2] + 9 * v[3] + v[2] * v[3] + 12 * (v[0] * v[1])**2) % r\n",
    "    d = (8 * v[0] + 5 * v[1] + 2 * v[2] + 7 * v[3] + v[3] * v[0] + 13 * (v[1] * v[2])**2) % s\n",
    "    return (a,b,c,d)\n",
    "\n",
    "# fill this in with [target]\n",
    "arr = [(379, 1641, 4, 1166)]\n",
    "\n",
    "for _ in range(3000000):\n",
    "    v = f(arr[-1])\n",
    "    if v == arr[0]:\n",
    "        print(f'found loop of length {len(arr)}')\n",
    "        break\n",
    "    arr.append(v)\n",
    "else:\n",
    "    assert False, 'did not find loop'\n",
    "    \n",
    "for i, v in enumerate(arr[::-1], 1):\n",
    "    k = 5555 + ((v[0] * v[1] * v[2] * v[3]) % 3000000)\n",
    "    if k % len(arr) == i:\n",
    "        print(v)\n",
    "        break\n",
    "else:\n",
    "    assert False, 'did not find soln'"
   ]
  },
  {
   "cell_type": "markdown",
   "id": "8e29c55b",
   "metadata": {},
   "source": [
    "This doesn't succeed all the time, but it's not super-rare either, so we can do this manually (keep repeating until success):\n",
    "1. Open a shell and connect to remote\n",
    "2. Copy values here (into `arr` above)\n",
    "3. Copy the solution back into the shell\n",
    "\n",
    "The flag is `grey{hello_smart_admin_;D_hRkPxgxcMB7Yxk4e}`."
   ]
  }
 ],
 "metadata": {
  "kernelspec": {
   "display_name": "Python 3 (ipykernel)",
   "language": "python",
   "name": "python3"
  },
  "language_info": {
   "codemirror_mode": {
    "name": "ipython",
    "version": 3
   },
   "file_extension": ".py",
   "mimetype": "text/x-python",
   "name": "python",
   "nbconvert_exporter": "python",
   "pygments_lexer": "ipython3",
   "version": "3.10.6"
  }
 },
 "nbformat": 4,
 "nbformat_minor": 5
}
