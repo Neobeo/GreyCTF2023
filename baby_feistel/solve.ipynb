{
 "cells": [
  {
   "cell_type": "markdown",
   "id": "3939b959",
   "metadata": {},
   "source": [
    "# Crypto 1 - Baby Feistel\n",
    "\n",
    "> I made my own custom cipher but somehow encrypting twice does nothing.\n",
    "> \n",
    "> - ariana\n",
    ">\n",
    "> Files: [main.py](main.py)\n",
    "\n",
    "The challenge is a pretty basic Feistel cipher, except it is demonstrated that encrypting any text twice returns itself, or equivalently that encryption is identical to decryption. We are also given that each sub-key $K_{i+1}$ is derived directly from the previous sub-key $K_{i}$.\n",
    "\n",
    "From the Feistel diagram (from Wikipedia), this implies that the key schedule must be palindromic.\n",
    "\n",
    "![schedule](Feistel_cipher_diagram_en.svg)\n",
    "\n",
    "The easiest way for this to happen is for every sub-key to be same, so let's assume this hypothesis for now. In that case, the relevant code that derives $K_{i+1}$ from $K_i$ is given by:\n",
    "\n",
    "```py\n",
    "key = sum(M*pow(key,n,5**55) for n,M in enumerate(MIX))%(5**55)\n",
    "```\n",
    "\n",
    "which is basically a polynomial of degree 16 (since `len(MIX) == 17`).\n",
    "\n",
    "We'll call this polynomial $f$, and it remains to just solve $f(x) \\equiv x\\pmod {5^{55}}$. We can treat $x$ and a base-5 number and brute-force the values from right to left. This is equivalent to first solving it $\\bmod{5}$, then $\\bmod{25}$, then $\\bmod{125}$ and so on.\n",
    "\n",
    "Of course, the solution may not be unique, so for each valid solution mod $5^k$ we can lift it to solutions modulo higher powers. Then we just look for a value that's entirely ASCII."
   ]
  },
  {
   "cell_type": "code",
   "execution_count": 1,
   "id": "c238b314",
   "metadata": {},
   "outputs": [
    {
     "name": "stdout",
     "output_type": "stream",
     "text": [
      "b'vuln_f1x3d_p01n7'\n"
     ]
    }
   ],
   "source": [
    "from Crypto.Util.number import *\n",
    "\n",
    "MIX = [107632798521572819694764108404904109375, 41536741957891467431472232877751864376, 275576770983938755827220589369303781975, 234236451662009148302826684340536433335, 167356592051306863969732200182719434359, 3964872179755557916019346905353137736, 261654592197979525204490051641223914986, 130534506910667985170179545870071095171, 110547794064929106567581040448523263944, 184063535252587585286044863527738743538, 164357339419512390377522630828102169288, 199930288846991086238436587886041223038, 177192341130030822677616530029496840095, 214572440504728654991188419790259127601, 114580049840189248087547627033034844626, 160013292840662875257096750676572257331, 27182818284590452353602874713526624977]\n",
    "\n",
    "F.<x> = ZZ[]\n",
    "f = F(MIX)\n",
    "\n",
    "def lift(i, mod):\n",
    "    if f(i) % mod == i:\n",
    "        if mod == 5^55:\n",
    "            yield long_to_bytes(i)\n",
    "        else:\n",
    "            for j in range(5):\n",
    "                yield from lift(i + mod * j, mod * 5)\n",
    "            \n",
    "for bs in lift(0, 1):\n",
    "    if all(x < 128 for x in bs):\n",
    "        print(bs)"
   ]
  },
  {
   "cell_type": "markdown",
   "id": "60a7646a",
   "metadata": {},
   "source": [
    "The flag is `grey{vuln_f1x3d_p01n7}`."
   ]
  }
 ],
 "metadata": {
  "kernelspec": {
   "display_name": "SageMath 9.5",
   "language": "sage",
   "name": "sagemath"
  },
  "language_info": {
   "codemirror_mode": {
    "name": "ipython",
    "version": 3
   },
   "file_extension": ".py",
   "mimetype": "text/x-python",
   "name": "python",
   "nbconvert_exporter": "python",
   "pygments_lexer": "ipython3",
   "version": "3.10.6"
  }
 },
 "nbformat": 4,
 "nbformat_minor": 5
}
