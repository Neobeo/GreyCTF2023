{
 "cells": [
  {
   "cell_type": "markdown",
   "id": "a55ef439",
   "metadata": {},
   "source": [
    "# Crypto 2 - OTP 2\n",
    "\n",
    "> Okay it should be complete now\n",
    "> \n",
    "> - mechfrog88\n",
    ">\n",
    "> Files: [main.py](main.py)\n",
    "\n",
    "This is OTP but with less cheese. The setup is as follows:\n",
    "- You are given a random 1024-bit prime $p$, and $g = 35^{10}$.\n",
    "- The OTP consists of six 16-bit values: $o_1, o_2, \\ldots, o_6$.\n",
    "- There are six private values (less than $p$): $x_1, x_2, \\ldots, x_6$.\n",
    "- There is another private value $r$, also less than $p$.\n",
    "- We are given the public versions of the private values: $g^{x_i} \\pmod{p}$.\n",
    "- We are also given the value of $g^{r} \\pmod{p}$ and $g^{r x_i + o_i} \\pmod{p}$.\n",
    "- We wish to recover the OTP ($o_i$).\n",
    "\n",
    "Actually we also have the dot product of `OTP` and `token` as in part 1, but I've ignored it as we will actually solve without it.\n",
    "\n",
    "So as always with discrete logs, it is generally intractable to fully solve for the exponent in $GF(p)$, unless $p-1$ happens to be smooth, which is very rare. But it doesn't need to be smooth since we don't need to full exponent -- recall that our aim is to learn $o_i$ which are 16-bit values. This means that if we can solve discrete logs mod any subgroup of order more than 65536, we are done!\n",
    "\n",
    "And this is exactly what happened.\n",
    "1. Keep generating remote instances until $p-1$ has a prime factor $q$ between 17 and 24 bits long. Technically it doesn't need to be prime, but this saves us from worrying about whether $g$ is in fact a generator.\n",
    "2. Work entirely in $\\bmod{q}$.\n",
    "    - Solve for $r \\bmod{q}$.\n",
    "    - Solve for $o_i \\bmod{q}$.\n",
    "    \n",
    "And that's about it really. So here's the solve script."
   ]
  },
  {
   "cell_type": "code",
   "execution_count": 1,
   "id": "c53ef184",
   "metadata": {},
   "outputs": [
    {
     "name": "stdout",
     "output_type": "stream",
     "text": [
      "[x] Starting local process '/usr/bin/python'\n",
      "[+] Starting local process '/usr/bin/python': pid 12172\n",
      "5767847 23\n",
      "[x] Receiving all data\n",
      "[x] Receiving all data: 69B\n",
      "[x] Receiving all data: 95B\n",
      "[*] Process '/usr/bin/python' stopped with exit code 0 (pid 12172)\n",
      "[+] Receiving all data: Done (95B)\n"
     ]
    },
    {
     "data": {
      "text/plain": [
       "b'Sending OTP....\\nNow insert your otp (6 integers separated by comma):\\nWelcome Admin! <REDACTED>\\n'"
      ]
     },
     "execution_count": 1,
     "metadata": {},
     "output_type": "execute_result"
    }
   ],
   "source": [
    "from sage.all import *\n",
    "from sage.rings.factorint import factor_trial_division\n",
    "from pwn import *\n",
    "\n",
    "sh = process(['python', 'main.py'])\n",
    "#sh = remote('34.124.157.94', 19622)\n",
    "p = int(sh.readline()[3:])\n",
    "F = GF(p, proof=False)\n",
    "pub = [F(x) for x in eval(sh.readline()[5:])]\n",
    "sh.sendline(b'10000000000,10000000000,10000000000,10000000000,10000000000,10000000000')\n",
    "sh.readuntil(b'OTP Hash: ')\n",
    "oh = [F(x) for x in eval(sh.readline())]\n",
    "\n",
    "q = next(a for a,_ in factor_trial_division(p-1, 2**24)[:-1] if a>65536)\n",
    "print(q, q.nbits())\n",
    "\n",
    "g = F(35**10)\n",
    "\n",
    "def dlog(target):\n",
    "    return discrete_log(target ** (p // q), g ** (p // q), q)\n",
    "\n",
    "r = dlog(oh[0])\n",
    "    \n",
    "soln = [dlog(oh[i+1] / pub[i]**r) for i in range(6)]\n",
    "sh.sendline(','.join(map(str,soln)).encode())\n",
    "sh.readall()"
   ]
  },
  {
   "cell_type": "markdown",
   "id": "ab1e5d0e",
   "metadata": {},
   "source": [
    "Actually the flag got changed at some point because the original challenge had a bug where you multiplied `pow(a,b,p)` with `pow(c,d,p)` but did not reduce the product mod p, so you could essentially just check if it was a factor.\n",
    "\n",
    "Anyway, the new flag is `grey{I_forgot_to_remove_the_debug_message_qgn9fe58yMwJdMRf}`."
   ]
  }
 ],
 "metadata": {
  "kernelspec": {
   "display_name": "Python 3 (ipykernel)",
   "language": "python",
   "name": "python3"
  },
  "language_info": {
   "codemirror_mode": {
    "name": "ipython",
    "version": 3
   },
   "file_extension": ".py",
   "mimetype": "text/x-python",
   "name": "python",
   "nbconvert_exporter": "python",
   "pygments_lexer": "ipython3",
   "version": "3.10.6"
  }
 },
 "nbformat": 4,
 "nbformat_minor": 5
}
