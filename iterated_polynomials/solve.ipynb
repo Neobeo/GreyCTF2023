{
 "cells": [
  {
   "cell_type": "markdown",
   "id": "a44810ab",
   "metadata": {},
   "source": [
    "# Crypto 1 - Iterated Polynomials\n",
    "\n",
    "> Took me a weekend on a laptop but finally I got an output!\n",
    "> \n",
    "> - ariana\n",
    ">\n",
    "> Files: [main.py](main.py)\n",
    "\n",
    "In this challenge, you start off with a polynomial `g`, and this polynomial is iteratively transformed via `g = f(g)` lots of times. Specifically, the number of iterations is the value of the flag treated as an int (as in `bytes_to_long()`).\n",
    "\n",
    "Let's see what we have been given:\n",
    "- $p = 2^{32} + 15$\n",
    "- We work in the quotient ring $S = \\mathbb{F}_p[X] / \\langle a(X) \\rangle$, where $a$ is some degree-16 polynomial we are given.\n",
    "- The transformation function is given by\n",
    "$$ f\\left(\\sum_{i=0}^{15} c_i X^{i} \\right) = \\sum_{i=0}^{15} c_i (X^2+1)^{i}.$$\n",
    "\n",
    "It should be quite clear from this description that the transformation $f$ is linear. In that case, we can hope to represent it as a matrix $M$, so that each transformation is represented by $v_{i+1} = v_i M$, and this reduces the problem to finding the value of $n$ for which our final vector if $v_n = v_0 M^n$.\n",
    "\n",
    "Let's get the values into sagemath first. Note that we have `y` instead of $X$ because sagemath likes to pretend they're different things."
   ]
  },
  {
   "cell_type": "code",
   "execution_count": 1,
   "id": "2f8b6537",
   "metadata": {},
   "outputs": [],
   "source": [
    "p = 2^32+15\n",
    "R = GF(p)[x]\n",
    "a = x^16 + 2206327570*x^15 + 764008823*x^14 + 2624308288*x^13 + 584210452*x^12 + 2859245580*x^11 + 2161247258*x^10 + 2475621239*x^9 + 2679079*x^8 + 3262843933*x^7 + 3126742286*x^6 + 2840770970*x^5 + 2798946498*x^4 + 1178619281*x^3 + 124682568*x^2 + 150251198*x + 1469826103\n",
    "S.<y> = R.quotient(a)\n",
    "target = 4213081404*y^15 + 3296429821*y^14 + 4211675621*y^13 + 1980847685*y^12 + 1112259653*y^11 + 330484598*y^10 + 23881381*y^9 + 2112413024*y^8 + 2815876074*y^7 + 4197415602*y^6 + 3078141258*y^5 + 4163495398*y^4 + 4121679949*y^3 + 2775737979*y^2 + 1590517927*y + 1223073206\n",
    "f = lambda g: sum(c*(y^2+1)^n for n,c in enumerate(g))"
   ]
  },
  {
   "cell_type": "markdown",
   "id": "24087119",
   "metadata": {},
   "source": [
    "Ok, so what should our matrix and vector spaces look like? Each vector is a polynomial of degree at most 15, so this gives a natural isomorphism to $\\mathbb{F}_p^{16}$. We can construct our matrix $M$ by transforming the basis elements. And for sanity check purposes, let's just see what the matrix looks like mod 1000."
   ]
  },
  {
   "cell_type": "code",
   "execution_count": 2,
   "id": "b13310cc",
   "metadata": {
    "scrolled": true
   },
   "outputs": [
    {
     "name": "stdout",
     "output_type": "stream",
     "text": [
      "[  1   0   0   0   0   0   0   0   0   0   0   0   0   0   0   0]\n",
      "[  1   0   1   0   0   0   0   0   0   0   0   0   0   0   0   0]\n",
      "[  1   0   2   0   1   0   0   0   0   0   0   0   0   0   0   0]\n",
      "[  1   0   3   0   3   0   1   0   0   0   0   0   0   0   0   0]\n",
      "[  1   0   4   0   6   0   4   0   1   0   0   0   0   0   0   0]\n",
      "[  1   0   5   0  10   0  10   0   5   0   1   0   0   0   0   0]\n",
      "[  1   0   6   0  15   0  20   0  15   0   6   0   1   0   0   0]\n",
      "[  1   0   7   0  21   0  35   0  35   0  21   0   7   0   1   0]\n",
      "[209 113 751  30 841 341  81 378 302  72 109 731 887  23 496 741]\n",
      "[392 977 353  39 549 516 934 956 491  90 155 852 709 362 107 665]\n",
      "[221 562 930 200 722 845 221 414 726 233 923 952 260 375 340 140]\n",
      "[980 391 990 175 741 119 957 475 500 927 361 933 309 465 629 823]\n",
      "[ 53 670 872 332 398 162 484 538 921 884 312 158 638 600 997 987]\n",
      "[564 704 807 191  40 628 678 429  59 993 557 601  51 857 127 494]\n",
      "[225 726 730 289 672 382 657 632 639 762 235 512 716 865  52 206]\n",
      "[413 277 187 758 345 240 174 366   8 283 206 762 338 545 474 913]\n"
     ]
    }
   ],
   "source": [
    "M = matrix([vector(f(y^i)) for i in range(16)])\n",
    "print(M.change_ring(ZZ) % 1000)"
   ]
  },
  {
   "cell_type": "markdown",
   "id": "67650bea",
   "metadata": {},
   "source": [
    "At this point, the idea should be to find a fast way to evaluate $M^n$. The usual way to do this is via diagonalisation, i.e. finding an invertible matrix $P$ and a diagonal matrix $D$ such that $M = PDP^{-1}$. One thing to note is that $D$ contains the eigenvalues of $M$, which may not exist in $\\mathbb{F}_p$ but rather some field extension of it. We could also work with the algebraic closure, but that's probably more trouble than it's worth. In any case, with some trial-and-error we find that all the eigenvalues are in $GF(p^{12})$."
   ]
  },
  {
   "cell_type": "code",
   "execution_count": 3,
   "id": "de886ad7",
   "metadata": {},
   "outputs": [],
   "source": [
    "D, P = M.diagonalization(GF(p^12))\n",
    "assert M == P * D * P^-1"
   ]
  },
  {
   "cell_type": "markdown",
   "id": "0437ec7c",
   "metadata": {},
   "source": [
    "At this point we are ready to do some stuff. Let $w$ be the `target` vector, and $n$ be the `bytes_to_long()` value of the flag, i.e the number of iterations."
   ]
  },
  {
   "cell_type": "code",
   "execution_count": 4,
   "id": "a6f7a300",
   "metadata": {},
   "outputs": [
    {
     "data": {
      "text/plain": [
       "(1223073206, 1590517927, 2775737979, 4121679949, 4163495398, 3078141258, 4197415602, 2815876074, 2112413024, 23881381, 330484598, 1112259653, 1980847685, 4211675621, 3296429821, 4213081404)"
      ]
     },
     "execution_count": 4,
     "metadata": {},
     "output_type": "execute_result"
    }
   ],
   "source": [
    "w = vector(target)\n",
    "w"
   ]
  },
  {
   "cell_type": "markdown",
   "id": "95eed816",
   "metadata": {},
   "source": [
    "We wish to solve the equation $w = v_0 M^n = v_0 P D^n P^{-1}$.\n",
    "\n",
    "This is equivalent to solving $wP = (v_0 P) D^n$. Since $wP$ and $v_0 P$ are vectors, and $D$ is a diagonal matrix, this means that each diagonal entry of $D$ only acts on a single coordinate of the vector.\n",
    "\n",
    "To demonstrate this by way of example, the equation could look something like this:\n",
    "$$ \\begin{pmatrix}\n",
    "12 & 18 & 16\n",
    "\\end{pmatrix}\n",
    "=\n",
    "\\begin{pmatrix}\n",
    "3 & 2 & 1\n",
    "\\end{pmatrix}\n",
    "\\begin{pmatrix}\n",
    "2 & 0 & 0 \\\\\n",
    "0 & 3 & 0 \\\\\n",
    "0 & 0 & 4\n",
    "\\end{pmatrix} ^ 2.$$\n",
    "\n",
    "In other words, we can break this up into a bunch of independent discrete logs."
   ]
  },
  {
   "cell_type": "code",
   "execution_count": 5,
   "id": "e590b926",
   "metadata": {},
   "outputs": [
    {
     "name": "stdout",
     "output_type": "stream",
     "text": [
      "0 0 1\n",
      "1 39659895313370669262782774899 79228163344367823809576701230\n",
      "2 30244136201289835 76861434177327378\n",
      "3 30244136201289835 76861434177327378\n",
      "4 68832491842489549589549111574014464981553494769485937929 261545911121742886336251906983649969595675641752826538140\n",
      "5 39659895313370669262782774899 79228163344367823809576701230\n",
      "6 160904653911627958279069599163942529 18904576204146013290129967807464358880\n",
      "7 68832491842489549589549111574014464981553494769485937929 261545911121742886336251906983649969595675641752826538140\n",
      "8 68832491842489549589549111574014464981553494769485937929 261545911121742886336251906983649969595675641752826538140\n",
      "9 160904653911627958279069599163942529 18904576204146013290129967807464358880\n",
      "10 39659895313370669262782774899 79228163344367823809576701230\n",
      "11 160904653911627958279069599163942529 18904576204146013290129967807464358880\n",
      "12 68832491842489549589549111574014464981553494769485937929 261545911121742886336251906983649969595675641752826538140\n",
      "13 68832491842489549589549111574014464981553494769485937929 261545911121742886336251906983649969595675641752826538140\n",
      "14 68832491842489549589549111574014464981553494769485937929 261545911121742886336251906983649969595675641752826538140\n",
      "15 160904653911627958279069599163942529 18904576204146013290129967807464358880\n"
     ]
    }
   ],
   "source": [
    "dlog_targets = [a/b for a,b in zip(w*P, vector(y)*P)]\n",
    "dlogs = []\n",
    "mods = []\n",
    "for i, t in enumerate(dlog_targets):\n",
    "    d = D[i][i]\n",
    "    if d == t == 1:\n",
    "        dlog, mod = 0, 1\n",
    "    else:\n",
    "        dlog, mod = t.log(d), d.multiplicative_order()\n",
    "    dlogs.append(dlog)\n",
    "    mods.append(mod)\n",
    "    print(i, dlog, mod)"
   ]
  },
  {
   "cell_type": "markdown",
   "id": "6ef432c4",
   "metadata": {},
   "source": [
    "To be fair, there is a lot of redundant computation we could have skipped, seeing as the same values pop up multiple times. I guess it's a good confirmation for us that the process is consistent.\n",
    "\n",
    "That's basically it. Now we can CRT all the discrete logs together and get the flag!"
   ]
  },
  {
   "cell_type": "code",
   "execution_count": 6,
   "id": "ff0d965d",
   "metadata": {},
   "outputs": [
    {
     "data": {
      "text/plain": [
       "b'7h3_FunC710N_15_4c7U4Lly_l1N34r!'"
      ]
     },
     "execution_count": 6,
     "metadata": {},
     "output_type": "execute_result"
    }
   ],
   "source": [
    "from Crypto.Util.number import *\n",
    "long_to_bytes(crt(dlogs, mods))"
   ]
  },
  {
   "cell_type": "markdown",
   "id": "1bfd9e2d",
   "metadata": {},
   "source": [
    "The flag is `grey{7h3_FunC710N_15_4c7U4Lly_l1N34r!}`."
   ]
  }
 ],
 "metadata": {
  "kernelspec": {
   "display_name": "SageMath 9.5",
   "language": "sage",
   "name": "sagemath"
  },
  "language_info": {
   "codemirror_mode": {
    "name": "ipython",
    "version": 3
   },
   "file_extension": ".py",
   "mimetype": "text/x-python",
   "name": "python",
   "nbconvert_exporter": "python",
   "pygments_lexer": "ipython3",
   "version": "3.10.6"
  }
 },
 "nbformat": 4,
 "nbformat_minor": 5
}
